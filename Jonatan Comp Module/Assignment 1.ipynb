{
 "cells": [
  {
   "cell_type": "code",
   "execution_count": 1,
   "metadata": {},
   "outputs": [],
   "source": [
    "import numpy as np\n",
    "import matplotlib.pyplot as plt\n",
    "import timeit\n",
    "from numba import prange\n",
    "from numba import njit\n",
    "from matplotlib import animation"
   ]
  },
  {
   "cell_type": "markdown",
   "metadata": {},
   "source": [
    "# Part 1\n",
    "Below we are initialising our 2D grid. We simulate the discrete diffusion process on this grid. "
   ]
  },
  {
   "cell_type": "code",
   "execution_count": 3,
   "metadata": {},
   "outputs": [],
   "source": [
    "N = 100\n",
    "\n",
    "un = np.zeros((N+2,N+2), dtype=np.float64)\n",
    "#un[1,1]=1\n"
   ]
  },
  {
   "cell_type": "code",
   "execution_count": 27,
   "metadata": {},
   "outputs": [],
   "source": [
    "def diffusion_iteration(un):\n",
    "    un1 = np.full_like(un, un[0,0])\n",
    "    for index, un_ij in np.ndenumerate(un[1:-1, 1:-1]):\n",
    "        i,j =index[0],index[1]\n",
    "        un1[i+1,j+1] = (un[i,j+1]+un[i+2,j+1]+un[i+1,j]+un[i+1,j+2])/4\n",
    "    return un1\n"
   ]
  },
  {
   "cell_type": "code",
   "execution_count": 28,
   "metadata": {},
   "outputs": [
    {
     "name": "stdout",
     "output_type": "stream",
     "text": [
      "[[0. 0. 0. 0. 0. 0. 0. 0. 0. 0. 0. 0.]\n",
      " [0. 0. 0. 0. 0. 0. 0. 0. 0. 0. 0. 0.]\n",
      " [0. 0. 0. 0. 0. 0. 0. 0. 0. 0. 0. 0.]\n",
      " [0. 0. 0. 0. 0. 0. 0. 0. 0. 0. 0. 0.]\n",
      " [0. 0. 0. 0. 0. 0. 0. 0. 0. 0. 0. 0.]\n",
      " [0. 0. 0. 0. 0. 0. 0. 0. 0. 0. 0. 0.]\n",
      " [0. 0. 0. 0. 0. 0. 0. 0. 0. 0. 0. 0.]\n",
      " [0. 0. 0. 0. 0. 0. 0. 0. 0. 0. 0. 0.]\n",
      " [0. 0. 0. 0. 0. 0. 0. 0. 0. 0. 0. 0.]\n",
      " [0. 0. 0. 0. 0. 0. 0. 0. 0. 0. 0. 0.]\n",
      " [0. 0. 0. 0. 0. 0. 0. 0. 0. 0. 0. 0.]\n",
      " [0. 0. 0. 0. 0. 0. 0. 0. 0. 0. 0. 0.]]\n"
     ]
    }
   ],
   "source": [
    "print(diffusion_iteration(un))"
   ]
  },
  {
   "cell_type": "code",
   "execution_count": 29,
   "metadata": {},
   "outputs": [
    {
     "name": "stdout",
     "output_type": "stream",
     "text": [
      "995 µs ± 69.5 µs per loop (mean ± std. dev. of 7 runs, 1000 loops each)\n"
     ]
    }
   ],
   "source": [
    "q0=%timeit -o diffusion_iteration(un)"
   ]
  },
  {
   "cell_type": "code",
   "execution_count": 30,
   "metadata": {},
   "outputs": [],
   "source": [
    "qavg=q.average\n",
    "qdev=q.stdev"
   ]
  },
  {
   "cell_type": "code",
   "execution_count": 31,
   "metadata": {
    "scrolled": true
   },
   "outputs": [
    {
     "name": "stdout",
     "output_type": "stream",
     "text": [
      "3.316744682460398e-07\n"
     ]
    }
   ],
   "source": [
    "print(qdev)"
   ]
  },
  {
   "cell_type": "code",
   "execution_count": 15,
   "metadata": {},
   "outputs": [
    {
     "name": "stdout",
     "output_type": "stream",
     "text": [
      "535 µs ± 26.5 µs per loop (mean ± std. dev. of 7 runs, 1000 loops each)\n",
      "2.36 ms ± 260 µs per loop (mean ± std. dev. of 7 runs, 100 loops each)\n",
      "5.81 ms ± 651 µs per loop (mean ± std. dev. of 7 runs, 100 loops each)\n",
      "9.17 ms ± 386 µs per loop (mean ± std. dev. of 7 runs, 100 loops each)\n",
      "14.3 ms ± 798 µs per loop (mean ± std. dev. of 7 runs, 100 loops each)\n",
      "22.3 ms ± 1.18 ms per loop (mean ± std. dev. of 7 runs, 10 loops each)\n",
      "27.1 ms ± 1.75 ms per loop (mean ± std. dev. of 7 runs, 10 loops each)\n",
      "34.1 ms ± 2.2 ms per loop (mean ± std. dev. of 7 runs, 10 loops each)\n",
      "45.8 ms ± 2.74 ms per loop (mean ± std. dev. of 7 runs, 10 loops each)\n",
      "56.8 ms ± 5.23 ms per loop (mean ± std. dev. of 7 runs, 10 loops each)\n"
     ]
    }
   ],
   "source": [
    "Ns = [10,20,30,40,50,60,70,80,90,100]\n",
    "t_avgs = []\n",
    "t_stdevs = []\n",
    "for N_i in Ns:\n",
    "    un_i = np.zeros((N_i+2,N_i+2), dtype=np.float64)\n",
    "    t = %timeit -o diffusion_iteration(un_i)\n",
    "    t_avgs.append(t.average)\n",
    "    t_stdevs.append(t.stdev)\n",
    "    "
   ]
  },
  {
   "cell_type": "code",
   "execution_count": 16,
   "metadata": {},
   "outputs": [
    {
     "name": "stdout",
     "output_type": "stream",
     "text": [
      "[0.0005352058714285753, 0.00235598571428568, 0.005810493857142823, 0.009166566857142828, 0.014283321857142903, 0.022297452857141513, 0.02712829571428545, 0.03407653857143, 0.0457853028571435, 0.05683092571428574]\n",
      "[2.6521528159097172e-05, 0.00026034543689903587, 0.0006508784629221156, 0.00038554657027530686, 0.0007977377537786591, 0.0011784552462033471, 0.001745207494662348, 0.0021954309094733724, 0.002738059286919738, 0.005234068937827844]\n"
     ]
    }
   ],
   "source": [
    "print(t_avgs)\n",
    "print(t_stdevs)"
   ]
  },
  {
   "cell_type": "code",
   "execution_count": 18,
   "metadata": {},
   "outputs": [
    {
     "data": {
      "text/plain": [
       "Text(0.5, 0, 'N')"
      ]
     },
     "execution_count": 18,
     "metadata": {},
     "output_type": "execute_result"
    },
    {
     "data": {
      "image/png": "[encoded data removed]",
      "text/plain": [
       "<Figure size 432x288 with 1 Axes>"
      ]
     },
     "metadata": {
      "needs_background": "light"
     },
     "output_type": "display_data"
    }
   ],
   "source": [
    "plt.errorbar(Ns, t_avgs, t_stdevs)\n",
    "plt.ylabel('Time /s')\n",
    "plt.xlabel('N')"
   ]
  },
  {
   "cell_type": "code",
   "execution_count": 3,
   "metadata": {},
   "outputs": [],
   "source": []
  },
  {
   "cell_type": "code",
   "execution_count": 41,
   "metadata": {},
   "outputs": [],
   "source": [
    "@njit\n",
    "def jit_diffusion_iteration(un):\n",
    "    un1 = np.full_like(un, un[0,0])\n",
    "    for index, un_ij in np.ndenumerate(un[1:-1, 1:-1]):\n",
    "        i,j =index[0],index[1]\n",
    "        un1[i+1,j+1] = (un[i,j+1]+un[i+2,j+1]+un[i+1,j]+un[i+1,j+2])/4\n",
    "    return un1"
   ]
  },
  {
   "cell_type": "code",
   "execution_count": 42,
   "metadata": {},
   "outputs": [
    {
     "name": "stdout",
     "output_type": "stream",
     "text": [
      "The slowest run took 4.26 times longer than the fastest. This could mean that an intermediate result is being cached.\n",
      "12.1 µs ± 9.01 µs per loop (mean ± std. dev. of 7 runs, 1 loop each)\n"
     ]
    }
   ],
   "source": [
    "q1=%timeit -o jit_diffusion_iteration(un)"
   ]
  },
  {
   "cell_type": "code",
   "execution_count": 10,
   "metadata": {},
   "outputs": [
    {
     "name": "stdout",
     "output_type": "stream",
     "text": [
      "The slowest run took 10.29 times longer than the fastest. This could mean that an intermediate result is being cached.\n",
      "4.2 µs ± 5.44 µs per loop (mean ± std. dev. of 7 runs, 1 loop each)\n",
      "8.47 µs ± 1.61 µs per loop (mean ± std. dev. of 7 runs, 100000 loops each)\n",
      "15.8 µs ± 946 ns per loop (mean ± std. dev. of 7 runs, 100000 loops each)\n",
      "26 µs ± 502 ns per loop (mean ± std. dev. of 7 runs, 10000 loops each)\n",
      "37.9 µs ± 451 ns per loop (mean ± std. dev. of 7 runs, 10000 loops each)\n",
      "53.8 µs ± 1.39 µs per loop (mean ± std. dev. of 7 runs, 10000 loops each)\n",
      "78.6 µs ± 7.21 µs per loop (mean ± std. dev. of 7 runs, 10000 loops each)\n",
      "96.1 µs ± 2.98 µs per loop (mean ± std. dev. of 7 runs, 10000 loops each)\n",
      "118 µs ± 1.2 µs per loop (mean ± std. dev. of 7 runs, 10000 loops each)\n",
      "143 µs ± 1.76 µs per loop (mean ± std. dev. of 7 runs, 10000 loops each)\n"
     ]
    },
    {
     "data": {
      "text/plain": [
       "Text(0.5, 0, 'N')"
      ]
     },
     "execution_count": 10,
     "metadata": {},
     "output_type": "execute_result"
    },
    {
     "data": {
      "image/png": "[encoded data removed]",
      "text/plain": [
       "<Figure size 432x288 with 1 Axes>"
      ]
     },
     "metadata": {
      "needs_background": "light"
     },
     "output_type": "display_data"
    }
   ],
   "source": [
    "Ns = [10,20,30,40,50,60,70,80,90,100]\n",
    "t_avgs = []\n",
    "t_stdevs = []\n",
    "for N_i in Ns:\n",
    "    un_i = np.zeros((N_i+2,N_i+2), dtype=np.float64)\n",
    "    t = %timeit -o jit_diffusion_iteration(un_i)\n",
    "    t_avgs.append(t.average)\n",
    "    t_stdevs.append(t.stdev)\n",
    "\n",
    "plt.errorbar(Ns, t_avgs, t_stdevs)\n",
    "plt.ylabel('Time /s')\n",
    "plt.xlabel('N')"
   ]
  },
  {
   "cell_type": "code",
   "execution_count": 4,
   "metadata": {},
   "outputs": [],
   "source": []
  },
  {
   "cell_type": "code",
   "execution_count": 44,
   "metadata": {},
   "outputs": [],
   "source": [
    "un = np.zeros((N+2,N+2), dtype=np.float64)\n",
    "#un[2,3]=1\n",
    "@njit\n",
    "def prange_diffusion_iteration(un):\n",
    "    un1 = np.full_like(un, un[0,0])\n",
    "    for i in prange(N):\n",
    "        for j in prange(N):\n",
    "            un1[i+1,j+1] = (un[i,j+1]+un[i+2,j+1]+un[i+1,j]+un[i+1,j+2])/4\n",
    "    return un1\n",
    "            "
   ]
  },
  {
   "cell_type": "code",
   "execution_count": 22,
   "metadata": {},
   "outputs": [
    {
     "data": {
      "text/plain": [
       "array([[0., 0., 0., 0., 0., 0., 0., 0., 0., 0., 0., 0.],\n",
       "       [0., 0., 0., 0., 0., 0., 0., 0., 0., 0., 0., 0.],\n",
       "       [0., 0., 0., 0., 0., 0., 0., 0., 0., 0., 0., 0.],\n",
       "       [0., 0., 0., 0., 0., 0., 0., 0., 0., 0., 0., 0.],\n",
       "       [0., 0., 0., 0., 0., 0., 0., 0., 0., 0., 0., 0.],\n",
       "       [0., 0., 0., 0., 0., 0., 0., 0., 0., 0., 0., 0.],\n",
       "       [0., 0., 0., 0., 0., 0., 0., 0., 0., 0., 0., 0.],\n",
       "       [0., 0., 0., 0., 0., 0., 0., 0., 0., 0., 0., 0.],\n",
       "       [0., 0., 0., 0., 0., 0., 0., 0., 0., 0., 0., 0.],\n",
       "       [0., 0., 0., 0., 0., 0., 0., 0., 0., 0., 0., 0.],\n",
       "       [0., 0., 0., 0., 0., 0., 0., 0., 0., 0., 0., 0.],\n",
       "       [0., 0., 0., 0., 0., 0., 0., 0., 0., 0., 0., 0.]])"
      ]
     },
     "execution_count": 22,
     "metadata": {},
     "output_type": "execute_result"
    }
   ],
   "source": [
    "prange_diffusion_iteration(un)"
   ]
  },
  {
   "cell_type": "code",
   "execution_count": 23,
   "metadata": {},
   "outputs": [
    {
     "name": "stdout",
     "output_type": "stream",
     "text": [
      "3.89 µs ± 332 ns per loop (mean ± std. dev. of 7 runs, 100000 loops each)\n"
     ]
    }
   ],
   "source": [
    "q2=%timeit -o prange_diffusion_iteration(un)"
   ]
  },
  {
   "cell_type": "code",
   "execution_count": 23,
   "metadata": {},
   "outputs": [],
   "source": [
    "\n"
   ]
  },
  {
   "cell_type": "code",
   "execution_count": 4,
   "metadata": {},
   "outputs": [
    {
     "data": {
      "image/png": "[encoded data removed]",
      "text/plain": [
       "<Figure size 432x288 with 1 Axes>"
      ]
     },
     "metadata": {
      "needs_background": "light"
     },
     "output_type": "display_data"
    }
   ],
   "source": [
    "fig = plt.figure()\n",
    "ax = plt.axes()\n",
    "image= ax.imshow(un)"
   ]
  },
  {
   "cell_type": "code",
   "execution_count": 5,
   "metadata": {},
   "outputs": [],
   "source": [
    "def init():\n",
    "    image.set_data(np.empty((1,1)))\n",
    "    return image,"
   ]
  },
  {
   "cell_type": "code",
   "execution_count": 6,
   "metadata": {},
   "outputs": [],
   "source": [
    "\n",
    "def animate(i):\n",
    "    global un\n",
    "    un1 = np.full_like(un, un[0,0])\n",
    "    for i in prange(N):\n",
    "        for j in prange(N):\n",
    "            un1[i+1,j+1] = (un[i,j+1]+un[i+2,j+1]+un[i+1,j]+un[i+1,j+2])/4\n",
    "    image.set_data(un1)\n",
    "    image.autoscale()\n",
    "     \n",
    "    un = un1.copy()\n",
    "    return image,"
   ]
  },
  {
   "cell_type": "code",
   "execution_count": 7,
   "metadata": {},
   "outputs": [
    {
     "name": "stdout",
     "output_type": "stream",
     "text": [
      "[1, 2, 3]\n"
     ]
    }
   ],
   "source": [
    "qua = [1,2,3]\n",
    "\n",
    "def f():\n",
    "    global qua\n",
    "    qua = [1,1,1]\n",
    "\n",
    "print(qua)"
   ]
  },
  {
   "cell_type": "code",
   "execution_count": 8,
   "metadata": {},
   "outputs": [
    {
     "name": "stdout",
     "output_type": "stream",
     "text": [
      "[1, 1, 1]\n"
     ]
    }
   ],
   "source": [
    "f()\n",
    "print(qua)"
   ]
  },
  {
   "cell_type": "code",
   "execution_count": 13,
   "metadata": {},
   "outputs": [],
   "source": [
    "un = np.zeros((N+2,N+2), dtype=np.float64)\n",
    "un[30:-30,30:-30]=1\n",
    "anim = animation.FuncAnimation(fig, animate, init_func=init,\n",
    "                               frames=200, interval=20, blit=True)\n",
    "anim.save('basic_animation.mp4', fps=30, extra_args=['-vcodec', 'libx264'])\n",
    "plt.show()"
   ]
  },
  {
   "cell_type": "code",
   "execution_count": null,
   "metadata": {},
   "outputs": [],
   "source": []
  }
 ],
 "metadata": {
  "kernelspec": {
   "display_name": "Python 3",
   "language": "python",
   "name": "python3"
  },
  "language_info": {
   "codemirror_mode": {
    "name": "ipython",
    "version": 3
   },
   "file_extension": ".py",
   "mimetype": "text/x-python",
   "name": "python",
   "nbconvert_exporter": "python",
   "pygments_lexer": "ipython3",
   "version": "3.8.5"
  }
 },
 "nbformat": 4,
 "nbformat_minor": 4
}

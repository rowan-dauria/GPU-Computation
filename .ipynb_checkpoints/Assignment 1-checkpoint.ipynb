{
 "cells": [
  {
   "cell_type": "code",
   "execution_count": 8,
   "metadata": {},
   "outputs": [],
   "source": [
    "import numpy as np\n",
    "import matplotlib.pyplot as plt\n",
    "import timeit\n",
    "from numba import prange\n",
    "from numba import njit\n",
    "from matplotlib import animation"
   ]
  },
  {
   "cell_type": "markdown",
   "metadata": {},
   "source": [
    "# Part 1\n",
    "Below we are initialising our 2D grid. We simulate the discrete diffusion process on this grid. "
   ]
  },
  {
   "cell_type": "code",
   "execution_count": 9,
   "metadata": {},
   "outputs": [],
   "source": [
    "N = 100\n",
    "\n",
    "un = np.zeros((N+2,N+2), dtype=np.float64)\n",
    "#un[1,1]=1\n"
   ]
  },
  {
   "cell_type": "code",
   "execution_count": 10,
   "metadata": {},
   "outputs": [],
   "source": [
    "def diffusion_iteration(un):\n",
    "    un1 = np.full_like(un, un[0,0])\n",
    "    for index, un_ij in np.ndenumerate(un[1:-1, 1:-1]):\n",
    "        i,j =index[0],index[1]\n",
    "        un1[i+1,j+1] = (un[i,j+1]+un[i+2,j+1]+un[i+1,j]+un[i+1,j+2])/4\n",
    "    return un1\n"
   ]
  },
  {
   "cell_type": "code",
   "execution_count": 11,
   "metadata": {},
   "outputs": [
    {
     "name": "stdout",
     "output_type": "stream",
     "text": [
      "[[0. 0. 0. ... 0. 0. 0.]\n",
      " [0. 0. 0. ... 0. 0. 0.]\n",
      " [0. 0. 0. ... 0. 0. 0.]\n",
      " ...\n",
      " [0. 0. 0. ... 0. 0. 0.]\n",
      " [0. 0. 0. ... 0. 0. 0.]\n",
      " [0. 0. 0. ... 0. 0. 0.]]\n"
     ]
    }
   ],
   "source": [
    "print(diffusion_iteration(un))"
   ]
  },
  {
   "cell_type": "code",
   "execution_count": 12,
   "metadata": {},
   "outputs": [
    {
     "name": "stdout",
     "output_type": "stream",
     "text": [
      "27.1 ms ± 1.47 ms per loop (mean ± std. dev. of 7 runs, 10 loops each)\n"
     ]
    }
   ],
   "source": [
    "q0=%timeit -o diffusion_iteration(un)"
   ]
  },
  {
   "cell_type": "code",
   "execution_count": 13,
   "metadata": {},
   "outputs": [],
   "source": [
    "qavg=q0.average\n",
    "qdev=q0.stdev"
   ]
  },
  {
   "cell_type": "code",
   "execution_count": null,
   "metadata": {
    "scrolled": true
   },
   "outputs": [],
   "source": [
    "print(qdev)"
   ]
  },
  {
   "cell_type": "code",
   "execution_count": null,
   "metadata": {},
   "outputs": [],
   "source": [
    "Ns = [10,20,30,40,50,60,70,80,90,100]\n",
    "t_avgs = []\n",
    "t_stdevs = []\n",
    "for N_i in Ns:\n",
    "    un_i = np.zeros((N_i+2,N_i+2), dtype=np.float64)\n",
    "    t = %timeit -o diffusion_iteration(un_i)\n",
    "    t_avgs.append(t.average)\n",
    "    t_stdevs.append(t.stdev)\n",
    "    "
   ]
  },
  {
   "cell_type": "code",
   "execution_count": null,
   "metadata": {},
   "outputs": [],
   "source": [
    "print(t_avgs)\n",
    "print(t_stdevs)"
   ]
  },
  {
   "cell_type": "code",
   "execution_count": null,
   "metadata": {},
   "outputs": [],
   "source": [
    "plt.errorbar(Ns, t_avgs, t_stdevs)\n",
    "plt.ylabel('Time /s')\n",
    "plt.xlabel('N')"
   ]
  },
  {
   "cell_type": "code",
   "execution_count": null,
   "metadata": {},
   "outputs": [],
   "source": []
  },
  {
   "cell_type": "code",
   "execution_count": null,
   "metadata": {},
   "outputs": [],
   "source": [
    "@njit\n",
    "def jit_diffusion_iteration(un):\n",
    "    un1 = np.full_like(un, un[0,0])\n",
    "    for index, un_ij in np.ndenumerate(un[1:-1, 1:-1]):\n",
    "        i,j =index[0],index[1]\n",
    "        un1[i+1,j+1] = (un[i,j+1]+un[i+2,j+1]+un[i+1,j]+un[i+1,j+2])/4\n",
    "    return un1"
   ]
  },
  {
   "cell_type": "code",
   "execution_count": null,
   "metadata": {},
   "outputs": [],
   "source": [
    "q1=%timeit -o jit_diffusion_iteration(un)"
   ]
  },
  {
   "cell_type": "code",
   "execution_count": null,
   "metadata": {},
   "outputs": [],
   "source": [
    "Ns = [10,20,30,40,50,60,70,80,90,100]\n",
    "t_avgs = []\n",
    "t_stdevs = []\n",
    "for N_i in Ns:\n",
    "    un_i = np.zeros((N_i+2,N_i+2), dtype=np.float64)\n",
    "    t = %timeit -o jit_diffusion_iteration(un_i)\n",
    "    t_avgs.append(t.average)\n",
    "    t_stdevs.append(t.stdev)\n",
    "\n",
    "plt.errorbar(Ns, t_avgs, t_stdevs)\n",
    "plt.ylabel('Time /s')\n",
    "plt.xlabel('N')"
   ]
  },
  {
   "cell_type": "code",
   "execution_count": null,
   "metadata": {},
   "outputs": [],
   "source": []
  },
  {
   "cell_type": "code",
   "execution_count": null,
   "metadata": {},
   "outputs": [],
   "source": [
    "un = np.zeros((N+2,N+2), dtype=np.float64)\n",
    "#un[2,3]=1\n",
    "@njit\n",
    "def prange_diffusion_iteration(un):\n",
    "    un1 = np.full_like(un, un[0,0])\n",
    "    for i in prange(N):\n",
    "        for j in prange(N):\n",
    "            un1[i+1,j+1] = (un[i,j+1]+un[i+2,j+1]+un[i+1,j]+un[i+1,j+2])/4\n",
    "    return un1\n",
    "            "
   ]
  },
  {
   "cell_type": "code",
   "execution_count": null,
   "metadata": {},
   "outputs": [],
   "source": [
    "prange_diffusion_iteration(un)"
   ]
  },
  {
   "cell_type": "code",
   "execution_count": null,
   "metadata": {},
   "outputs": [],
   "source": [
    "q2=%timeit -o prange_diffusion_iteration(un)"
   ]
  },
  {
   "cell_type": "code",
   "execution_count": null,
   "metadata": {},
   "outputs": [],
   "source": [
    "\n"
   ]
  },
  {
   "cell_type": "code",
   "execution_count": null,
   "metadata": {},
   "outputs": [],
   "source": [
    "fig = plt.figure()\n",
    "ax = plt.axes()\n",
    "image= ax.imshow(un)"
   ]
  },
  {
   "cell_type": "code",
   "execution_count": null,
   "metadata": {},
   "outputs": [],
   "source": [
    "def init():\n",
    "    image.set_data(np.empty((1,1)))\n",
    "    return image,"
   ]
  },
  {
   "cell_type": "code",
   "execution_count": null,
   "metadata": {},
   "outputs": [],
   "source": [
    "\n",
    "def animate(input_1,un):\n",
    "    \n",
    "    un1 = np.full_like(un, un[0,0])\n",
    "    for i in prange(N):\n",
    "        for j in prange(N):\n",
    "            un1[i+1,j+1] = (un[i,j+1]+un[i+2,j+1]+un[i+1,j]+un[i+1,j+2])/4\n",
    "    image.set_data(un1)\n",
    "    image.autoscale()\n",
    "     \n",
    "    un = un1.copy()\n",
    "    return image,"
   ]
  },
  {
   "cell_type": "code",
   "execution_count": null,
   "metadata": {},
   "outputs": [],
   "source": [
    "qua = [1,2,3]\n",
    "\n",
    "def f():\n",
    "    global qua\n",
    "    qua = [1,1,1]\n",
    "\n",
    "print(qua)"
   ]
  },
  {
   "cell_type": "code",
   "execution_count": null,
   "metadata": {},
   "outputs": [],
   "source": [
    "f()\n",
    "print(qua)"
   ]
  },
  {
   "cell_type": "code",
   "execution_count": null,
   "metadata": {},
   "outputs": [],
   "source": [
    "un = np.zeros((N+2,N+2), dtype=np.float64)\n",
    "un[30:-30,30:-30]=1\n",
    "anim = animation.FuncAnimation(fig, animate, init_func=init,\n",
    "                               frames=200, interval=20, blit=True)\n",
    "anim.save('assignment_1_animation.mp4', fps=30, extra_args=['-vcodec', 'libx264'])\n",
    "plt.show()"
   ]
  },
  {
   "cell_type": "code",
   "execution_count": null,
   "metadata": {},
   "outputs": [],
   "source": []
  }
 ],
 "metadata": {
  "kernelspec": {
   "display_name": "Python 3",
   "language": "python",
   "name": "python3"
  },
  "language_info": {
   "codemirror_mode": {
    "name": "ipython",
    "version": 3
   },
   "file_extension": ".py",
   "mimetype": "text/x-python",
   "name": "python",
   "nbconvert_exporter": "python",
   "pygments_lexer": "ipython3",
   "version": "3.8.5"
  }
 },
 "nbformat": 4,
 "nbformat_minor": 4
}
